{
 "cells": [
  {
   "cell_type": "code",
   "execution_count": 2,
   "metadata": {},
   "outputs": [],
   "source": [
    "import numpy as np"
   ]
  },
  {
   "cell_type": "code",
   "execution_count": 4,
   "metadata": {},
   "outputs": [
    {
     "data": {
      "text/plain": [
       "array([-0.77242624,  0.4426183 ])"
      ]
     },
     "execution_count": 4,
     "metadata": {},
     "output_type": "execute_result"
    }
   ],
   "source": [
    "np.random.randn(2)"
   ]
  },
  {
   "cell_type": "code",
   "execution_count": 6,
   "metadata": {},
   "outputs": [
    {
     "data": {
      "text/plain": [
       "array([[-2.72329571,  0.73240031],\n",
       "       [ 0.83425757, -1.6049751 ],\n",
       "       [-1.03049807, -1.44758553]])"
      ]
     },
     "execution_count": 6,
     "metadata": {},
     "output_type": "execute_result"
    }
   ],
   "source": [
    "np.random.randn(3,2)"
   ]
  },
  {
   "cell_type": "code",
   "execution_count": 8,
   "metadata": {},
   "outputs": [
    {
     "data": {
      "text/plain": [
       "array([[[ 0.87030936,  1.31204456, -0.11775912,  1.37412706,\n",
       "          2.02928546],\n",
       "        [ 0.48691437, -1.39383752, -1.17016166,  0.82959832,\n",
       "          2.4895306 ],\n",
       "        [ 0.04248466,  1.47984754, -0.34228827,  0.52663023,\n",
       "         -0.34875874],\n",
       "        [-0.11629375,  0.73614066, -0.103308  , -1.13832252,\n",
       "         -0.19245862],\n",
       "        [ 1.79180163, -0.87891829,  2.73305494,  0.06720411,\n",
       "          0.073838  ]],\n",
       "\n",
       "       [[ 1.71455526,  0.82047052, -0.93418112,  1.01548385,\n",
       "          0.77198264],\n",
       "        [ 1.17835552,  0.55652653, -2.35030396, -0.31365789,\n",
       "         -0.29276531],\n",
       "        [ 0.57863215, -0.43561084, -0.18645693,  0.18670493,\n",
       "         -1.03561107],\n",
       "        [-0.96471721, -0.25024505,  0.23274175,  0.63640309,\n",
       "         -1.53358468],\n",
       "        [ 0.19608213, -1.50185605,  0.42526701, -0.79407945,\n",
       "         -0.82634128]],\n",
       "\n",
       "       [[ 0.62779147, -1.49723034,  0.39772435, -1.2109318 ,\n",
       "         -0.44910489],\n",
       "        [ 1.45605883, -0.54285578,  0.85342757,  0.3627247 ,\n",
       "         -1.5878737 ],\n",
       "        [ 1.13044425,  0.72181247,  1.3025548 , -2.00187988,\n",
       "          0.81204345],\n",
       "        [ 0.66026002,  0.59471643,  0.02259233, -0.07658634,\n",
       "          1.28424582],\n",
       "        [ 0.231956  ,  0.36995679, -1.15392617,  1.0743658 ,\n",
       "          1.01099806]],\n",
       "\n",
       "       [[-1.3422005 ,  0.33317568, -1.55144132, -0.42879712,\n",
       "          0.82410859],\n",
       "        [-1.21347305,  0.06873736, -1.23789159,  0.24845523,\n",
       "          0.77655693],\n",
       "        [-0.69553298, -2.01785546, -0.34087453,  0.57846002,\n",
       "         -1.57747009],\n",
       "        [ 0.45501205, -1.31880798, -0.73906985,  1.08033941,\n",
       "         -0.09706709],\n",
       "        [ 0.053466  , -2.02615685, -0.40752033, -0.71014138,\n",
       "         -3.14102077]],\n",
       "\n",
       "       [[ 0.1313862 , -0.1454957 ,  0.78902026,  0.03462706,\n",
       "          1.64956016],\n",
       "        [ 0.12645813,  0.31312426,  0.96436161,  0.69519884,\n",
       "         -0.67397431],\n",
       "        [-0.37192344,  0.57146382, -0.85418824,  1.72657542,\n",
       "         -0.59585905],\n",
       "        [-1.18661338,  0.24028595,  2.08246244, -0.72173698,\n",
       "          0.65191213],\n",
       "        [ 0.08564572, -0.02969166, -0.02294844,  2.04186677,\n",
       "          0.51583516]]])"
      ]
     },
     "execution_count": 8,
     "metadata": {},
     "output_type": "execute_result"
    }
   ],
   "source": [
    "np.random.randn(5,5,5)"
   ]
  },
  {
   "cell_type": "code",
   "execution_count": 12,
   "metadata": {},
   "outputs": [
    {
     "data": {
      "text/plain": [
       "array([[19, 22],\n",
       "       [43, 50]])"
      ]
     },
     "execution_count": 12,
     "metadata": {},
     "output_type": "execute_result"
    }
   ],
   "source": [
    "a = np.array([[1,2],[3,4]])\n",
    "b = np.array([[5,6],[7,8]])\n",
    "np.dot(a,b)"
   ]
  },
  {
   "cell_type": "code",
   "execution_count": 14,
   "metadata": {},
   "outputs": [
    {
     "data": {
      "text/plain": [
       "array([[23, 34],\n",
       "       [31, 46]])"
      ]
     },
     "execution_count": 14,
     "metadata": {},
     "output_type": "execute_result"
    }
   ],
   "source": [
    "a = np.array([[1,2],[3,4]])\n",
    "b = np.array([[5,6],[7,8]])\n",
    "np.dot(b,a)"
   ]
  },
  {
   "cell_type": "code",
   "execution_count": 17,
   "metadata": {},
   "outputs": [
    {
     "ename": "ValueError",
     "evalue": "shapes (2,2) and (1,2) not aligned: 2 (dim 1) != 1 (dim 0)",
     "output_type": "error",
     "traceback": [
      "\u001b[1;31m---------------------------------------------------------------------------\u001b[0m",
      "\u001b[1;31mValueError\u001b[0m                                Traceback (most recent call last)",
      "\u001b[1;32m<ipython-input-17-3876b3ba6642>\u001b[0m in \u001b[0;36m<module>\u001b[1;34m\u001b[0m\n\u001b[0;32m      1\u001b[0m \u001b[0ma\u001b[0m \u001b[1;33m=\u001b[0m \u001b[0mnp\u001b[0m\u001b[1;33m.\u001b[0m\u001b[0marray\u001b[0m\u001b[1;33m(\u001b[0m\u001b[1;33m[\u001b[0m\u001b[1;33m[\u001b[0m\u001b[1;36m1\u001b[0m\u001b[1;33m,\u001b[0m\u001b[1;36m2\u001b[0m\u001b[1;33m]\u001b[0m\u001b[1;33m,\u001b[0m\u001b[1;33m[\u001b[0m\u001b[1;36m3\u001b[0m\u001b[1;33m,\u001b[0m\u001b[1;36m4\u001b[0m\u001b[1;33m]\u001b[0m\u001b[1;33m]\u001b[0m\u001b[1;33m)\u001b[0m\u001b[1;33m\u001b[0m\u001b[1;33m\u001b[0m\u001b[0m\n\u001b[0;32m      2\u001b[0m \u001b[0mb\u001b[0m \u001b[1;33m=\u001b[0m \u001b[0mnp\u001b[0m\u001b[1;33m.\u001b[0m\u001b[0marray\u001b[0m\u001b[1;33m(\u001b[0m\u001b[1;33m[\u001b[0m\u001b[1;33m[\u001b[0m\u001b[1;36m5\u001b[0m\u001b[1;33m,\u001b[0m\u001b[1;36m6\u001b[0m\u001b[1;33m]\u001b[0m\u001b[1;33m]\u001b[0m\u001b[1;33m)\u001b[0m\u001b[1;33m\u001b[0m\u001b[1;33m\u001b[0m\u001b[0m\n\u001b[1;32m----> 3\u001b[1;33m \u001b[0mnp\u001b[0m\u001b[1;33m.\u001b[0m\u001b[0mdot\u001b[0m\u001b[1;33m(\u001b[0m\u001b[0ma\u001b[0m\u001b[1;33m,\u001b[0m\u001b[0mb\u001b[0m\u001b[1;33m)\u001b[0m\u001b[1;33m\u001b[0m\u001b[1;33m\u001b[0m\u001b[0m\n\u001b[0m",
      "\u001b[1;31mValueError\u001b[0m: shapes (2,2) and (1,2) not aligned: 2 (dim 1) != 1 (dim 0)"
     ]
    }
   ],
   "source": [
    "a = np.array([[1,2],[3,4]])\n",
    "b = np.array([[5,6]])\n",
    "np.dot(a,b)"
   ]
  },
  {
   "cell_type": "code",
   "execution_count": 19,
   "metadata": {},
   "outputs": [
    {
     "data": {
      "text/plain": [
       "array([[23, 34]])"
      ]
     },
     "execution_count": 19,
     "metadata": {},
     "output_type": "execute_result"
    }
   ],
   "source": [
    "a = np.array([[1,2],[3,4]])\n",
    "b = np.array([[5,6]])\n",
    "np.dot(b,a)"
   ]
  },
  {
   "cell_type": "code",
   "execution_count": 22,
   "metadata": {},
   "outputs": [
    {
     "name": "stdout",
     "output_type": "stream",
     "text": [
      "[5 6]\n"
     ]
    }
   ],
   "source": [
    "b = np.array([5,6])\n",
    "print(b)"
   ]
  },
  {
   "cell_type": "code",
   "execution_count": 24,
   "metadata": {},
   "outputs": [
    {
     "name": "stdout",
     "output_type": "stream",
     "text": [
      "[[5 6]]\n"
     ]
    }
   ],
   "source": [
    "b = np.array([[5,6]])\n",
    "print(b)"
   ]
  },
  {
   "cell_type": "code",
   "execution_count": 26,
   "metadata": {},
   "outputs": [
    {
     "data": {
      "text/plain": [
       "6"
      ]
     },
     "execution_count": 26,
     "metadata": {},
     "output_type": "execute_result"
    }
   ],
   "source": [
    "x = np.array([[1,2],[3,4],[5,6]])\n",
    "np.max(x)"
   ]
  },
  {
   "cell_type": "code",
   "execution_count": 29,
   "metadata": {},
   "outputs": [
    {
     "name": "stdout",
     "output_type": "stream",
     "text": [
      "[-3 -3 -3]\n"
     ]
    }
   ],
   "source": [
    "y = np.array([1,2,3])\n",
    "d = np.array([4,5,6])\n",
    "print(y - d)"
   ]
  },
  {
   "cell_type": "code",
   "execution_count": 31,
   "metadata": {},
   "outputs": [
    {
     "name": "stdout",
     "output_type": "stream",
     "text": [
      "[9 9 9]\n"
     ]
    }
   ],
   "source": [
    "y = np.array([1,2,3])\n",
    "d = np.array([4,5,6])\n",
    "print(np.square(y - d))"
   ]
  },
  {
   "cell_type": "code",
   "execution_count": 32,
   "metadata": {},
   "outputs": [
    {
     "name": "stdout",
     "output_type": "stream",
     "text": [
      "27\n"
     ]
    }
   ],
   "source": [
    "y = np.array([1,2,3])\n",
    "d = np.array([4,5,6])\n",
    "print(np.sum(np.square(y - d)))"
   ]
  },
  {
   "cell_type": "code",
   "execution_count": 37,
   "metadata": {},
   "outputs": [],
   "source": [
    "def sigmoid(x):\n",
    "    return 1/(1 + np.exp(-x))"
   ]
  },
  {
   "cell_type": "code",
   "execution_count": 38,
   "metadata": {},
   "outputs": [
    {
     "name": "stdout",
     "output_type": "stream",
     "text": [
      "[0.04742587 0.26894142 0.73105858 0.95257413]\n"
     ]
    }
   ],
   "source": [
    "a = np.array([-3, -1, 1, 3])\n",
    "print(sigmoid(a))"
   ]
  }
 ],
 "metadata": {
  "kernelspec": {
   "display_name": "Python 3",
   "language": "python",
   "name": "python3"
  },
  "language_info": {
   "codemirror_mode": {
    "name": "ipython",
    "version": 3
   },
   "file_extension": ".py",
   "mimetype": "text/x-python",
   "name": "python",
   "nbconvert_exporter": "python",
   "pygments_lexer": "ipython3",
   "version": "3.6.8"
  }
 },
 "nbformat": 4,
 "nbformat_minor": 2
}
