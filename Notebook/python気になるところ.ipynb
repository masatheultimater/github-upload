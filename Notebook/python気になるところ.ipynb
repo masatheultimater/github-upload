{
 "cells": [
  {
   "cell_type": "code",
   "execution_count": 8,
   "metadata": {},
   "outputs": [
    {
     "data": {
      "text/plain": [
       "False"
      ]
     },
     "execution_count": 8,
     "metadata": {},
     "output_type": "execute_result"
    }
   ],
   "source": [
    "import re\n",
    "def is_stressful(subj):\n",
    "    \"\"\"\n",
    "        recoognise stressful subject\n",
    "    \"\"\"\n",
    "    a = re.search(r'^[A-Z]+[^a-z0-9]*$',subj)\n",
    "    b = re.search(r'!{3,}$',subj)\n",
    "    c = re.search(r'(?i)h[^ ]*e[^ ]*l[^ ]*p',subj)\n",
    "    d = re.search(r'(?i)a[^ ]*s[^ ]*a[^ ]*p',subj)\n",
    "    e = re.search(r'(?i)u[^ ]*r[^ ]*g[^ ]*e[^ ]*n[^ ]*t.*',subj)\n",
    "    \n",
    "    if a:\n",
    "        return True\n",
    "    elif b:\n",
    "        return True\n",
    "    elif c:\n",
    "        return True\n",
    "    elif d:\n",
    "        return True\n",
    "    elif e:\n",
    "        return True\n",
    "    else:\n",
    "        return False\n",
    "\n",
    "subj = 'He loves peace'\n",
    "is_stressful(subj)"
   ]
  },
  {
   "cell_type": "code",
   "execution_count": 25,
   "metadata": {},
   "outputs": [
    {
     "ename": "TypeError",
     "evalue": "'str' object does not support item assignment",
     "output_type": "error",
     "traceback": [
      "\u001b[1;31m---------------------------------------------------------------------------\u001b[0m",
      "\u001b[1;31mTypeError\u001b[0m                                 Traceback (most recent call last)",
      "\u001b[1;32m<ipython-input-25-ff6a2d9d9090>\u001b[0m in \u001b[0;36m<module>\u001b[1;34m\u001b[0m\n\u001b[0;32m      6\u001b[0m     \u001b[0msailorsNest\u001b[0m\u001b[1;33m[\u001b[0m\u001b[0mkey\u001b[0m\u001b[1;33m]\u001b[0m \u001b[1;33m=\u001b[0m \u001b[0mkey\u001b[0m\u001b[1;33m\u001b[0m\u001b[1;33m\u001b[0m\u001b[0m\n\u001b[0;32m      7\u001b[0m     \u001b[1;32mfor\u001b[0m \u001b[0mvalue\u001b[0m \u001b[1;32min\u001b[0m \u001b[0msailors\u001b[0m\u001b[1;33m.\u001b[0m\u001b[0mvalues\u001b[0m\u001b[1;33m(\u001b[0m\u001b[1;33m)\u001b[0m\u001b[1;33m:\u001b[0m\u001b[1;33m\u001b[0m\u001b[1;33m\u001b[0m\u001b[0m\n\u001b[1;32m----> 8\u001b[1;33m         \u001b[0msailorsNest\u001b[0m\u001b[1;33m[\u001b[0m\u001b[0mkey\u001b[0m\u001b[1;33m]\u001b[0m\u001b[1;33m[\u001b[0m\u001b[0mvalue\u001b[0m\u001b[1;33m]\u001b[0m \u001b[1;33m=\u001b[0m \u001b[0mvalue\u001b[0m\u001b[1;33m\u001b[0m\u001b[1;33m\u001b[0m\u001b[0m\n\u001b[0m\u001b[0;32m      9\u001b[0m \u001b[0mprint\u001b[0m\u001b[1;33m(\u001b[0m\u001b[0msailors\u001b[0m\u001b[1;33m)\u001b[0m\u001b[1;33m\u001b[0m\u001b[1;33m\u001b[0m\u001b[0m\n\u001b[0;32m     10\u001b[0m \u001b[1;33m\u001b[0m\u001b[0m\n",
      "\u001b[1;31mTypeError\u001b[0m: 'str' object does not support item assignment"
     ]
    }
   ],
   "source": [
    "\n",
    "sailors = {'a':'19', 'b':'40', 'c':'20', 'd':'41'}\n",
    "sailorsNest = {}\n",
    "\n",
    "for key in sailors.keys():\n",
    "    sailorsNest[key] = key\n",
    "    for value in sailors.values():\n",
    "        sailorsNest[key][value] = value\n",
    "print(sailors) \n",
    "\n",
    "def two_teams(sailors):\n",
    "    #replace this for solution\n",
    "    for key, value in sailors:\n",
    "        if sailors[key].value() > 40 or sailors[key].value() < 20:\n",
    "            sailors.values().append('1')\n",
    "        else:\n",
    "            sailors.values().append('2')\n",
    "\n",
    "    #print(sailors)\n",
    "\n",
    "#two_teams(sailors)\n",
    "#    return [\n",
    "#        [],\n",
    "#        []\n",
    "#    ]"
   ]
  },
  {
   "cell_type": "code",
   "execution_count": null,
   "metadata": {},
   "outputs": [],
   "source": []
  }
 ],
 "metadata": {
  "kernelspec": {
   "display_name": "Python 3",
   "language": "python",
   "name": "python3"
  },
  "language_info": {
   "codemirror_mode": {
    "name": "ipython",
    "version": 3
   },
   "file_extension": ".py",
   "mimetype": "text/x-python",
   "name": "python",
   "nbconvert_exporter": "python",
   "pygments_lexer": "ipython3",
   "version": "3.6.8"
  }
 },
 "nbformat": 4,
 "nbformat_minor": 2
}
