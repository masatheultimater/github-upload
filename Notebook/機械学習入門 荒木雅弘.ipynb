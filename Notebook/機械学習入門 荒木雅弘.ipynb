{
 "cells": [
  {
   "cell_type": "markdown",
   "metadata": {},
   "source": [
    "# 第2章 機械学習の基本的な手順\n",
    "\n",
    "データ収集 前処理 評価基準の設定 学習 結果の可視化\n",
    "\n",
    "## 2.1 Wekaを用いた機械学習  \n",
    "<br>\n",
    "***  \n",
    "#### 前処理  \n",
    "<br>\n",
    "次元の呪い  \n",
    "> 特徴数の次元が増えるほど，情報が冗長となり，そのようなデータから得られたモデルの汎化能力が下がること\n",
    "\n",
    "↓  \n",
    "##### 主成分分析(PCA:Principal Component Analysis)  \n",
    "手順\n",
    "    1. 共分散行列の計算  \n",
    "$ \\displaystyle \\sum = \\frac{1}{N} \\begin{pmatrix}\n",
    "\\sum_{x \\ni D}(x_1-\\bar{x}_1)^2 & \\sum_{x \\ni D}(x_1-\\bar{x}_1)(x_2-\\bar{x}_2) \\\\ \n",
    "\\sum_{x \\ni D}(x_1-\\bar{x}_1)(x_2-\\bar{x}_2) & \\sum_{x \\ni D}(x_2-\\bar{x}_2)^2 \\\\ \n",
    "\\end{pmatrix} $\n",
    "    2. 共分散行列の固有値分解(固有値・固有ベクトルの導出) \n",
    "$ \\sum ' = U^T\\sum U = \\begin{pmatrix} \\lambda_1 & 0 \\\\ 0 & \\lambda_2 \\end{pmatrix} $\n",
    "    3. lambda_1に対応する固有ベクトルからなる行列U_1で多次元データを低次元に写像\n",
    "$ u_1 = U_1^T x $          寄与率 $= \\frac{\\lambda_1}{\\lambda_1 + \\lambda_2} $\n",
    "\n",
    "<br>\n",
    "特徴は各次元独立して計測されるため，その絶対値や分散が大きく異なる可能性がある  \n",
    "\n",
    "そのままベクトル化してしまうと，絶対値の大きい特徴の影響が大きくなりすぎる  \n",
    "\n",
    "↓  \n",
    "\n",
    "一般的にはそれぞれの次元の平均値を0，標準偏差を1に揃える  \n",
    "\n",
    "↓  \n",
    "\n",
    "##### 標準化  \n",
    "\n",
    "標準化後の値 = $ \\frac{もと値 - 次元平均値}{次元標準偏差} $  \n",
    "\n",
    "#### 評価基準の設定\n",
    "- ホールドアウト法  \n",
    "- Cross Validation法  \n",
    "    m個の集合 に分割し，m-1個で学習を行い，残りの一つで評価を行う  \n",
    "    m=データの個数の場合，一つ抜き法と呼ばれる\n",
    "    "
   ]
  },
  {
   "cell_type": "code",
   "execution_count": 3,
   "metadata": {},
   "outputs": [],
   "source": [
    "# scikit-learnを用いた機械学習\n",
    "%matplotlib inline\n",
    "import numpy as np\n",
    "import matplotlib.pyplot as plt\n",
    "from sklearn.datasets import load_iris\n",
    "from sklearn.decomposition import PCA\n",
    "from sklearn import preprocessing\n",
    "from sklearn.neighbors import KNeighborsClassifier\n",
    "from sklearn.model_selection import cross_val_score\n",
    "from sklearn.model_selection import cross_val_predict\n",
    "from sklearn.metrics import confusion_matrix"
   ]
  },
  {
   "cell_type": "code",
   "execution_count": 4,
   "metadata": {},
   "outputs": [
    {
     "name": "stdout",
     "output_type": "stream",
     "text": [
      ".. _iris_dataset:\n",
      "\n",
      "Iris plants dataset\n",
      "--------------------\n",
      "\n",
      "**Data Set Characteristics:**\n",
      "\n",
      "    :Number of Instances: 150 (50 in each of three classes)\n",
      "    :Number of Attributes: 4 numeric, predictive attributes and the class\n",
      "    :Attribute Information:\n",
      "        - sepal length in cm\n",
      "        - sepal width in cm\n",
      "        - petal length in cm\n",
      "        - petal width in cm\n",
      "        - class:\n",
      "                - Iris-Setosa\n",
      "                - Iris-Versicolour\n",
      "                - Iris-Virginica\n",
      "                \n",
      "    :Summary Statistics:\n",
      "\n",
      "    ============== ==== ==== ======= ===== ====================\n",
      "                    Min  Max   Mean    SD   Class Correlation\n",
      "    ============== ==== ==== ======= ===== ====================\n",
      "    sepal length:   4.3  7.9   5.84   0.83    0.7826\n",
      "    sepal width:    2.0  4.4   3.05   0.43   -0.4194\n",
      "    petal length:   1.0  6.9   3.76   1.76    0.9490  (high!)\n",
      "    petal width:    0.1  2.5   1.20   0.76    0.9565  (high!)\n",
      "    ============== ==== ==== ======= ===== ====================\n",
      "\n",
      "    :Missing Attribute Values: None\n",
      "    :Class Distribution: 33.3% for each of 3 classes.\n",
      "    :Creator: R.A. Fisher\n",
      "    :Donor: Michael Marshall (MARSHALL%PLU@io.arc.nasa.gov)\n",
      "    :Date: July, 1988\n",
      "\n",
      "The famous Iris database, first used by Sir R.A. Fisher. The dataset is taken\n",
      "from Fisher's paper. Note that it's the same as in R, but not as in the UCI\n",
      "Machine Learning Repository, which has two wrong data points.\n",
      "\n",
      "This is perhaps the best known database to be found in the\n",
      "pattern recognition literature.  Fisher's paper is a classic in the field and\n",
      "is referenced frequently to this day.  (See Duda & Hart, for example.)  The\n",
      "data set contains 3 classes of 50 instances each, where each class refers to a\n",
      "type of iris plant.  One class is linearly separable from the other 2; the\n",
      "latter are NOT linearly separable from each other.\n",
      "\n",
      ".. topic:: References\n",
      "\n",
      "   - Fisher, R.A. \"The use of multiple measurements in taxonomic problems\"\n",
      "     Annual Eugenics, 7, Part II, 179-188 (1936); also in \"Contributions to\n",
      "     Mathematical Statistics\" (John Wiley, NY, 1950).\n",
      "   - Duda, R.O., & Hart, P.E. (1973) Pattern Classification and Scene Analysis.\n",
      "     (Q327.D83) John Wiley & Sons.  ISBN 0-471-22361-1.  See page 218.\n",
      "   - Dasarathy, B.V. (1980) \"Nosing Around the Neighborhood: A New System\n",
      "     Structure and Classification Rule for Recognition in Partially Exposed\n",
      "     Environments\".  IEEE Transactions on Pattern Analysis and Machine\n",
      "     Intelligence, Vol. PAMI-2, No. 1, 67-71.\n",
      "   - Gates, G.W. (1972) \"The Reduced Nearest Neighbor Rule\".  IEEE Transactions\n",
      "     on Information Theory, May 1972, 431-433.\n",
      "   - See also: 1988 MLC Proceedings, 54-64.  Cheeseman et al\"s AUTOCLASS II\n",
      "     conceptual clustering system finds 3 classes in the data.\n",
      "   - Many, many more ...\n"
     ]
    }
   ],
   "source": [
    "#データ読み込み\n",
    "iris = load_iris()\n",
    "print(iris.DESCR)\n",
    "X = iris.data\n",
    "Y = iris.target"
   ]
  },
  {
   "cell_type": "code",
   "execution_count": 17,
   "metadata": {},
   "outputs": [
    {
     "name": "stdout",
     "output_type": "stream",
     "text": [
      "(150, 2)\n",
      "***標準化されたXデータの平均値と標準偏差***\n",
      "[-1.69031455e-15 -1.84297022e-15 -1.69864123e-15 -1.40924309e-15] [1. 1. 1. 1.]\n"
     ]
    },
    {
     "data": {
      "image/png": "[encoded data removed]",
      "text/plain": [
       "<Figure size 432x288 with 1 Axes>"
      ]
     },
     "metadata": {
      "needs_background": "light"
     },
     "output_type": "display_data"
    }
   ],
   "source": [
    "#前処理(クラスのまとまりを見る)\n",
    "pca = PCA(n_components=2)\n",
    "X2 = pca.fit_transform(X)\n",
    "print(X2.shape)\n",
    "#print(X2)\n",
    "plt.plot(X2[Y==0,0], X2[Y==0,1],\"ro\") #X2の中からベクトルYの値が0に当たる行だけ取り出し，その0行目を抜き出す\n",
    "plt.plot(X2[Y==1,0], X2[Y==1,1],\"g.\") \n",
    "plt.plot(X2[Y==2,0], X2[Y==2,1],\"bx\")\n",
    "\n",
    "#前処理(もとのXを標準化して識別に使用できるデータにする)\n",
    "X_scaled = preprocessing.scale(X)\n",
    "print('***標準化されたXデータの平均値と標準偏差***')\n",
    "print(X_scaled.mean(axis=0), X_scaled.std(axis=0))"
   ]
  },
  {
   "cell_type": "code",
   "execution_count": 27,
   "metadata": {},
   "outputs": [
    {
     "name": "stdout",
     "output_type": "stream",
     "text": [
      "KNeighborsClassifier(algorithm='auto', leaf_size=30, metric='minkowski',\n",
      "           metric_params=None, n_jobs=None, n_neighbors=1, p=2,\n",
      "           weights='uniform')\n",
      "***混合行列***\n",
      "[[50  0  0]\n",
      " [ 0 47  3]\n",
      " [ 0  4 46]]\n",
      "***レポート***\n"
     ]
    },
    {
     "data": {
      "text/plain": [
       "(array([1.        , 0.92156863, 0.93877551]),\n",
       " array([1.  , 0.94, 0.92]),\n",
       " array([1.        , 0.93069307, 0.92929293]),\n",
       " array([50, 50, 50], dtype=int64))"
      ]
     },
     "execution_count": 27,
     "metadata": {},
     "output_type": "execute_result"
    }
   ],
   "source": [
    "# 評価基準の設定と学習\n",
    "\n",
    "#1．学習次のパラメータを引数として識別器クラスのインスタンスを作成\n",
    "#2．特徴ベクトルと教師ベクトルを引数として，Fitメソッドを実行\n",
    "#3．識別したい特徴ベクトルを引数として，predictメソッドを実行\n",
    "\n",
    "#K-NN法のインスタンスを作成\n",
    "clf = KNeighborsClassifier(n_neighbors=1)\n",
    "print(clf)\n",
    "# CV法のパラメータを設定(インスタンス，学習データ，教師データ，交差数)\n",
    "# 戻り値は交差数を要素数とするベクトル，各要素は正解率を表す\n",
    "#scores = cross_val_score(clf, X_scaled, Y, cv=10)\n",
    "\n",
    "# 単純な正解率はscoresの平均で求まる\n",
    "# 交差の安定性を見るために95%信頼区間(+-標準偏差の2倍)\n",
    "#print(\"Accuracy: %0.2f (+/- %0.2f)\" % (scores.mean(), scores.std()*2))\n",
    "\n",
    "# 混同行列を求める場合\n",
    "# cross_val_scoreではなく，cross_val_predictで識別器の出力を記録\n",
    "# metricsパッケージのconfusion_metrixを用いる\n",
    "y_pred = cross_val_predict(clf, X_scaled, Y, cv=10)\n",
    "print('***混合行列***')\n",
    "print(confusion_matrix(Y, y_pred))\n",
    "# 精度/再現率/F値はこれらから計算できる\n",
    "from sklearn.metrics import precision_recall_fscore_support\n",
    "print('***レポート***')\n",
    "precision_recall_fscore_support(Y, y_pred)\n"
   ]
  },
  {
   "cell_type": "markdown",
   "metadata": {},
   "source": [
    "# 第3章 識別 -概念学習-\n",
    "- カテゴリデータから成る特徴ベクトルを入力として，それをクラス出力する識別器を作成する\n",
    "- 概念学習\n",
    "> 個々の事例から，あるクラスについて共通点を見つけること\n",
    "\n",
    "\n"
   ]
  }
 ],
 "metadata": {
  "kernelspec": {
   "display_name": "Python 3",
   "language": "python",
   "name": "python3"
  },
  "language_info": {
   "codemirror_mode": {
    "name": "ipython",
    "version": 3
   },
   "file_extension": ".py",
   "mimetype": "text/x-python",
   "name": "python",
   "nbconvert_exporter": "python",
   "pygments_lexer": "ipython3",
   "version": "3.6.8"
  }
 },
 "nbformat": 4,
 "nbformat_minor": 2
}
